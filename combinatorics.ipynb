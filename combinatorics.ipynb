{
 "cells": [
  {
   "cell_type": "code",
   "execution_count": 30,
   "id": "c77e00bc",
   "metadata": {},
   "outputs": [],
   "source": [
    "def f(n):\n",
    "    last = 0\n",
    "    for x in range(int(n/2) + 1):\n",
    "        y = n - x\n",
    "        print(x, \"*\", y, \"=\", x * y, \"\\t\", x*y - last)\n",
    "        last = x*y"
   ]
  },
  {
   "cell_type": "code",
   "execution_count": 37,
   "id": "022a4a91",
   "metadata": {},
   "outputs": [
    {
     "name": "stdout",
     "output_type": "stream",
     "text": [
      "0 * 12 = 0 \t 0\n",
      "1 * 11 = 11 \t 11\n",
      "2 * 10 = 20 \t 9\n",
      "3 * 9 = 27 \t 7\n",
      "4 * 8 = 32 \t 5\n",
      "5 * 7 = 35 \t 3\n",
      "6 * 6 = 36 \t 1\n"
     ]
    }
   ],
   "source": [
    "f(12)"
   ]
  },
  {
   "cell_type": "code",
   "execution_count": 34,
   "id": "9e148f70",
   "metadata": {},
   "outputs": [],
   "source": [
    "import matplotlib.pyplot as plt\n",
    "import numpy as np"
   ]
  },
  {
   "cell_type": "code",
   "execution_count": 50,
   "id": "f74b9569",
   "metadata": {},
   "outputs": [],
   "source": [
    "def g(x):\n",
    "    return -1*x**2 + 12*x"
   ]
  },
  {
   "cell_type": "code",
   "execution_count": 58,
   "id": "9ae06f33",
   "metadata": {},
   "outputs": [
    {
     "data": {
      "text/plain": [
       "35"
      ]
     },
     "execution_count": 58,
     "metadata": {},
     "output_type": "execute_result"
    }
   ],
   "source": [
    "g(7)"
   ]
  },
  {
   "cell_type": "code",
   "execution_count": 59,
   "id": "bcdfec21",
   "metadata": {},
   "outputs": [],
   "source": [
    "def graph_f(n):\n",
    "    x = np.linspace(0, n, 1000)\n",
    "    y = -1*x**2 + (n+1)*x\n",
    "\n",
    "    fig, ax = plt.subplots()\n",
    "    ax.plot(x, y)"
   ]
  },
  {
   "cell_type": "code",
   "execution_count": 67,
   "id": "f2a9789c",
   "metadata": {},
   "outputs": [
    {
     "data": {
      "image/png": "[encoded data removed]",
      "text/plain": [
       "<Figure size 432x288 with 1 Axes>"
      ]
     },
     "metadata": {
      "needs_background": "light"
     },
     "output_type": "display_data"
    }
   ],
   "source": [
    "graph_f(201)"
   ]
  },
  {
   "cell_type": "code",
   "execution_count": 63,
   "id": "43db0795",
   "metadata": {},
   "outputs": [
    {
     "data": {
      "text/plain": [
       "6.5"
      ]
     },
     "execution_count": 63,
     "metadata": {},
     "output_type": "execute_result"
    }
   ],
   "source": [
    "12 - 5.5"
   ]
  },
  {
   "cell_type": "code",
   "execution_count": 64,
   "id": "50255a12",
   "metadata": {},
   "outputs": [
    {
     "data": {
      "text/plain": [
       "35.75"
      ]
     },
     "execution_count": 64,
     "metadata": {},
     "output_type": "execute_result"
    }
   ],
   "source": [
    "6.5 * 5.5"
   ]
  },
  {
   "cell_type": "code",
   "execution_count": 66,
   "id": "b35398ed",
   "metadata": {},
   "outputs": [
    {
     "data": {
      "text/plain": [
       "35.75"
      ]
     },
     "execution_count": 66,
     "metadata": {},
     "output_type": "execute_result"
    }
   ],
   "source": [
    "g(5.5)"
   ]
  }
 ],
 "metadata": {
  "kernelspec": {
   "display_name": "Python 3 (ipykernel)",
   "language": "python",
   "name": "python3"
  },
  "language_info": {
   "codemirror_mode": {
    "name": "ipython",
    "version": 3
   },
   "file_extension": ".py",
   "mimetype": "text/x-python",
   "name": "python",
   "nbconvert_exporter": "python",
   "pygments_lexer": "ipython3",
   "version": "3.7.3"
  }
 },
 "nbformat": 4,
 "nbformat_minor": 5
}
