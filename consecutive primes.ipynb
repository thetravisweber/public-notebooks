{
 "cells": [
  {
   "cell_type": "code",
   "execution_count": 43,
   "id": "3f6faefe",
   "metadata": {},
   "outputs": [],
   "source": [
    "import math"
   ]
  },
  {
   "cell_type": "code",
   "execution_count": 44,
   "id": "6fa11342",
   "metadata": {},
   "outputs": [],
   "source": [
    "primes = [2, 3, 5, 7, 11, 13, 17, 19, 23, 29, 31, 37, 41, 43, 47, 53, 59, 61, 67, 71, 73, 79, 83, 89, 97]"
   ]
  },
  {
   "cell_type": "code",
   "execution_count": 45,
   "id": "922788d8",
   "metadata": {},
   "outputs": [],
   "source": [
    "def sigma(n):\n",
    "    prod = 1\n",
    "    for p in primes[:n]:\n",
    "        prod *= p\n",
    "    return prod"
   ]
  },
  {
   "cell_type": "code",
   "execution_count": 46,
   "id": "dac1f200",
   "metadata": {},
   "outputs": [
    {
     "data": {
      "text/plain": [
       "210"
      ]
     },
     "execution_count": 46,
     "metadata": {},
     "output_type": "execute_result"
    }
   ],
   "source": [
    "sigma(4)"
   ]
  },
  {
   "cell_type": "code",
   "execution_count": 47,
   "id": "551500af",
   "metadata": {},
   "outputs": [],
   "source": [
    "def is_prime(n):\n",
    "    highest_to_check = math.floor(math.sqrt(n))\n",
    "    for m in range(2, highest_to_check + 1):\n",
    "        if (n % m == 0):\n",
    "            return False\n",
    "    return True"
   ]
  },
  {
   "cell_type": "code",
   "execution_count": 48,
   "id": "f7c876ce",
   "metadata": {},
   "outputs": [],
   "source": [
    "def smallest_factor(n):\n",
    "    for m in range(2, int(n/2)+1):\n",
    "        if (n % m == 0):\n",
    "            return m\n",
    "    return n"
   ]
  },
  {
   "cell_type": "code",
   "execution_count": 49,
   "id": "ca18c130",
   "metadata": {},
   "outputs": [],
   "source": [
    "def prime_factors(n):\n",
    "    factors = []\n",
    "    while (n != 1):\n",
    "        f = smallest_factor(n)\n",
    "        factors.append(f)\n",
    "        n /= f\n",
    "    return factors"
   ]
  },
  {
   "cell_type": "code",
   "execution_count": 50,
   "id": "3ae6d6c6",
   "metadata": {},
   "outputs": [
    {
     "name": "stdout",
     "output_type": "stream",
     "text": [
      "1 3 True True\n",
      "5 7 True True\n",
      "29 31 True True\n",
      "209 211 False True\n",
      "[11, 19.0] [211]\n",
      "PANIC PANIC PANIC PANIC\n",
      "2309 2311 True True\n",
      "30029 30031 True False\n",
      "[30029] [59, 509.0]\n",
      "PANIC PANIC PANIC PANIC\n",
      "510509 510511 False False\n",
      "[61, 8369.0] [19, 97, 277.0]\n",
      "PANIC PANIC PANIC PANIC\n"
     ]
    }
   ],
   "source": [
    "for num_primes in range(1, 8):\n",
    "    s = sigma(num_primes)\n",
    "    print(s-1, s+1, is_prime(s-1), is_prime(s+1))\n",
    "    if not (is_prime(s-1) and is_prime(s+1)):\n",
    "        print(prime_factors(s-1), prime_factors(s+1))\n",
    "        print(\"PANIC PANIC PANIC PANIC\")"
   ]
  },
  {
   "cell_type": "code",
   "execution_count": 51,
   "id": "20f3fefe",
   "metadata": {},
   "outputs": [],
   "source": [
    "def find_twin_primes(start, end):\n",
    "    for n in range(start, end):\n",
    "        if (is_prime(n) and is_prime(n+2)):\n",
    "            print(f\"found twins {n} and {n+2}, middle number has factors {prime_factors(n+1)}\")"
   ]
  },
  {
   "cell_type": "code",
   "execution_count": 52,
   "id": "2d3cce19",
   "metadata": {},
   "outputs": [
    {
     "name": "stdout",
     "output_type": "stream",
     "text": [
      "found twins 3 and 5, middle number has factors [2, 2.0]\n",
      "found twins 5 and 7, middle number has factors [2, 3.0]\n",
      "found twins 11 and 13, middle number has factors [2, 2, 3.0]\n",
      "found twins 17 and 19, middle number has factors [2, 3, 3.0]\n",
      "found twins 29 and 31, middle number has factors [2, 3, 5.0]\n",
      "found twins 41 and 43, middle number has factors [2, 3, 7.0]\n",
      "found twins 59 and 61, middle number has factors [2, 2, 3, 5.0]\n",
      "found twins 71 and 73, middle number has factors [2, 2, 2, 3, 3.0]\n",
      "found twins 101 and 103, middle number has factors [2, 3, 17.0]\n",
      "found twins 107 and 109, middle number has factors [2, 2, 3, 3, 3.0]\n",
      "found twins 137 and 139, middle number has factors [2, 3, 23.0]\n",
      "found twins 149 and 151, middle number has factors [2, 3, 5, 5.0]\n",
      "found twins 179 and 181, middle number has factors [2, 2, 3, 3, 5.0]\n",
      "found twins 191 and 193, middle number has factors [2, 2, 2, 2, 2, 2, 3.0]\n",
      "found twins 197 and 199, middle number has factors [2, 3, 3, 11.0]\n",
      "found twins 227 and 229, middle number has factors [2, 2, 3, 19.0]\n",
      "found twins 239 and 241, middle number has factors [2, 2, 2, 2, 3, 5.0]\n",
      "found twins 269 and 271, middle number has factors [2, 3, 3, 3, 5.0]\n",
      "found twins 281 and 283, middle number has factors [2, 3, 47.0]\n",
      "found twins 311 and 313, middle number has factors [2, 2, 2, 3, 13.0]\n",
      "found twins 347 and 349, middle number has factors [2, 2, 3, 29.0]\n"
     ]
    }
   ],
   "source": [
    "find_twin_primes(2, 400)"
   ]
  },
  {
   "cell_type": "code",
   "execution_count": 53,
   "id": "c6fcc1a0",
   "metadata": {},
   "outputs": [],
   "source": [
    "def is_mid_twins(n):\n",
    "    return is_prime(n-1) and is_prime(n+1)"
   ]
  },
  {
   "cell_type": "code",
   "execution_count": 54,
   "id": "2c4307ad",
   "metadata": {},
   "outputs": [],
   "source": [
    "def calculate_margin(triangle, width = 250):\n",
    "    max_len = len(str(triangle[-1]))\n",
    "    min_len = len(str(triangle[0]))\n",
    "    return int(min(max_len - min_len, int(width / 2)) / 2)"
   ]
  },
  {
   "cell_type": "code",
   "execution_count": 55,
   "id": "2137381f",
   "metadata": {},
   "outputs": [],
   "source": [
    "def display_triangle(tri):\n",
    "    margin = calculate_margin(tri)\n",
    "    for layer in tri:\n",
    "        out = str(layer).replace(\",\", \" \").replace(\"True\", \"T\").replace(\"False\", \"_\")\n",
    "        length = len(out)\n",
    "        spaces_to_print = margin - int(length / 2)\n",
    "        print(\" \" * spaces_to_print + out[1: -1])"
   ]
  },
  {
   "cell_type": "code",
   "execution_count": 76,
   "id": "17c0b654",
   "metadata": {},
   "outputs": [],
   "source": [
    "def gen_triangle(n, m, depth = 5, res_mid = False):\n",
    "    triangle = []\n",
    "    for level in range(depth):\n",
    "        layer = []\n",
    "        \n",
    "        peak = level + 1\n",
    "        for i in range(peak + 1):\n",
    "            n_pow = peak - i\n",
    "            m_pow = i\n",
    "            result = (n ** n_pow) * (m ** m_pow)\n",
    "            if (res_mid):\n",
    "                layer.append(is_mid_twins(result))\n",
    "            else:\n",
    "                layer.append(result)\n",
    "\n",
    "        triangle.append(layer)\n",
    "\n",
    "    return triangle"
   ]
  },
  {
   "cell_type": "code",
   "execution_count": 88,
   "id": "c0dcf1b7",
   "metadata": {},
   "outputs": [
    {
     "name": "stdout",
     "output_type": "stream",
     "text": [
      "                                                         T  _\n",
      "                                                        _  T  _\n",
      "                                                      _  _  _  _\n",
      "                                                     _  _  _  _  _\n",
      "                                                   _  _  _  _  _  _\n",
      "                                                  _  _  _  _  _  _  _\n",
      "                                                _  _  _  T  _  _  _  _\n",
      "                                               _  _  _  _  _  _  _  _  _\n",
      "                                             _  _  _  _  _  _  _  _  _  _\n",
      "                                            _  _  _  _  _  _  _  _  _  _  _\n",
      "                                          _  _  _  _  _  _  _  _  _  _  _  _\n",
      "                                         _  _  _  _  _  _  _  _  _  _  _  _  _\n",
      "                                       _  _  _  T  _  _  _  _  _  _  _  _  _  _\n",
      "                                      _  _  _  _  _  _  _  _  _  _  _  _  _  _  _\n",
      "                                    _  _  _  _  _  _  _  _  _  _  _  _  _  _  _  _\n",
      "                                   _  _  _  _  _  _  _  _  _  _  _  _  _  _  _  _  _\n",
      "                                 _  _  _  _  _  _  _  _  _  _  _  _  _  _  _  _  _  _\n",
      "                                _  _  _  _  _  _  _  _  _  _  _  _  _  _  _  _  _  _  _\n",
      "              6  7\n",
      "           36  42  49\n",
      "       216  252  294  343\n",
      "  1296  1512  1764  2058  2401\n",
      "7776  9072  10584  12348  14406  16807\n"
     ]
    }
   ],
   "source": [
    "n = 6\n",
    "m = 7\n",
    "display_triangle(gen_triangle(n, m, depth=18, res_mid = True))\n",
    "display_triangle(gen_triangle(n, m, depth=5, res_mid = False))"
   ]
  },
  {
   "cell_type": "code",
   "execution_count": 114,
   "id": "dde86b5b",
   "metadata": {},
   "outputs": [],
   "source": [
    "def splitter_header():\n",
    "    results = \"\"\n",
    "    for p in primes[2:9]:\n",
    "        results+= f\"{p} \"\n",
    "    return results"
   ]
  },
  {
   "cell_type": "code",
   "execution_count": 115,
   "id": "989a9ff4",
   "metadata": {},
   "outputs": [],
   "source": [
    "def split_from(arr):\n",
    "    results = \"\"\n",
    "    for p in primes[2:9]:\n",
    "        if (p in arr):\n",
    "            results+=\"T\" + (len(str(p)) * \" \")\n",
    "        else:\n",
    "            results+=\"_\" + (len(str(p)) * \" \")\n",
    "    return results"
   ]
  },
  {
   "cell_type": "code",
   "execution_count": 116,
   "id": "cc6fdc6b",
   "metadata": {},
   "outputs": [
    {
     "name": "stdout",
     "output_type": "stream",
     "text": [
      "                                 5 7 11 13 17 19 23  5 7 11 13 17 19 23 \n",
      "6 from 1: \t factored split: T _ _  _  _  _  _   _ T _  _  _  _  _  \n",
      "12 from 2: \t factored split: _ _ T  _  _  _  _   _ _ _  T  _  _  _  \n",
      "18 from 3: \t factored split: _ _ _  _  T  _  _   _ _ _  _  _  T  _  \n",
      "24 from 4: \t factored split: _ _ _  _  _  _  T   T _ _  _  _  _  _  \n",
      "30 from 5: \t factored split: _ _ _  _  _  _  _   _ _ _  _  _  _  _  \n",
      "36 from 6: \t factored split: T T _  _  _  _  _   _ _ _  _  _  _  _  \n",
      "42 from 7: \t factored split: _ _ _  _  _  _  _   _ _ _  _  _  _  _  \n",
      "48 from 8: \t factored split: _ _ _  _  _  _  _   _ T _  _  _  _  _  \n",
      "54 from 9: \t factored split: _ _ _  _  _  _  _   T _ T  _  _  _  _  \n",
      "60 from 10: \t factored split: _ _ _  _  _  _  _   _ _ _  _  _  _  _  \n",
      "66 from 11: \t factored split: T _ _  T  _  _  _   _ _ _  _  _  _  _  \n",
      "72 from 12: \t factored split: _ _ _  _  _  _  _   _ _ _  _  _  _  _  \n",
      "78 from 13: \t factored split: _ T T  _  _  _  _   _ _ _  _  _  _  _  \n",
      "84 from 14: \t factored split: _ _ _  _  _  _  _   T _ _  _  T  _  _  \n",
      "90 from 15: \t factored split: _ _ _  _  _  _  _   _ T _  T  _  _  _  \n",
      "96 from 16: \t factored split: T _ _  _  _  T  _   _ _ _  _  _  _  _  \n",
      "102 from 17: \t factored split: _ _ _  _  _  _  _   _ _ _  _  _  _  _  \n",
      "108 from 18: \t factored split: _ _ _  _  _  _  _   _ _ _  _  _  _  _  \n",
      "114 from 19: \t factored split: _ _ _  _  _  _  _   T _ _  _  _  _  T  \n",
      "120 from 20: \t factored split: _ T _  _  T  _  _   _ _ T  _  _  _  _  \n",
      "126 from 21: \t factored split: T _ _  _  _  _  _   _ _ _  _  _  _  _  \n",
      "132 from 22: \t factored split: _ _ _  _  _  _  _   _ T _  _  _  T  _  \n",
      "138 from 23: \t factored split: _ _ _  _  _  _  _   _ _ _  _  _  _  _  \n",
      "144 from 24: \t factored split: _ _ T  T  _  _  _   T _ _  _  _  _  _  \n",
      "150 from 25: \t factored split: _ _ _  _  _  _  _   _ _ _  _  _  _  _  \n",
      "156 from 26: \t factored split: T _ _  _  _  _  _   _ _ _  _  _  _  _  \n",
      "162 from 27: \t factored split: _ T _  _  _  _  T   _ _ _  _  _  _  _  \n",
      "168 from 28: \t factored split: _ _ _  _  _  _  _   _ _ _  T  _  _  _  \n",
      "174 from 29: \t factored split: _ _ _  _  _  _  _   T T _  _  _  _  _  \n"
     ]
    }
   ],
   "source": [
    "print(\" \" * 32, splitter_header(), splitter_header())\n",
    "for n in range(1, 30):\n",
    "    m = n*6\n",
    "    left_fact = prime_factors(m - 1)\n",
    "    right_fact = prime_factors(m+1)\n",
    "    print(f\"{m} from {n}: \\t factored split:\", \\\n",
    "          split_from(left_fact), \\\n",
    "          split_from(right_fact) \\\n",
    "         )"
   ]
  }
 ],
 "metadata": {
  "kernelspec": {
   "display_name": "Python 3 (ipykernel)",
   "language": "python",
   "name": "python3"
  },
  "language_info": {
   "codemirror_mode": {
    "name": "ipython",
    "version": 3
   },
   "file_extension": ".py",
   "mimetype": "text/x-python",
   "name": "python",
   "nbconvert_exporter": "python",
   "pygments_lexer": "ipython3",
   "version": "3.7.3"
  }
 },
 "nbformat": 4,
 "nbformat_minor": 5
}
