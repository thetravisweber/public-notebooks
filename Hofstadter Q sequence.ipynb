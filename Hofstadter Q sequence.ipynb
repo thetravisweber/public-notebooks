{
 "cells": [
  {
   "cell_type": "code",
   "execution_count": 1,
   "id": "65f0accf",
   "metadata": {},
   "outputs": [],
   "source": [
    "class Entry:\n",
    "    \n",
    "    def __init__(self, index, num):\n",
    "        self.index = index\n",
    "        self.num = num\n",
    "        self.references = []\n",
    "        \n",
    "    def notify_referenced_by(self, m):\n",
    "        self.references.append(m)\n",
    "        \n",
    "    def greatest_ref(self):\n",
    "        if self.num_ref() > 0: \n",
    "            return max(self.references)\n",
    "        return 0\n",
    "    \n",
    "    def least_ref(self):\n",
    "        if self.num_ref() > 0: \n",
    "            return min(self.references)\n",
    "        return 0\n",
    "    \n",
    "    def num_ref(self):\n",
    "        return len(self.references)\n",
    "        \n",
    "    def __str__(self):\n",
    "        return str(self.index) + \": \" + str(self.num)\n",
    "    \n",
    "    def __add__(self, other):\n",
    "        return self.num + other.num"
   ]
  },
  {
   "cell_type": "code",
   "execution_count": 3,
   "id": "0aafa3b2",
   "metadata": {},
   "outputs": [],
   "source": [
    "def add_a_term(predict_die):\n",
    "    current = len(seq) + 1\n",
    "    # python equivalent of current index\n",
    "    p_current = current - 1\n",
    "    \n",
    "    # calculate indeces [including conversions to and from 0-indexed]\n",
    "    firstIndex = p_current - seq[p_current-1].num\n",
    "    secondIndex = p_current - seq[p_current-2].num\n",
    "    \n",
    "    # Check entries are valid\n",
    "    if ((firstIndex < 0) or (secondIndex < 0)):\n",
    "        print(\"accessing indeces \", firstIndex + 1,\", \", secondIndex + 1)\n",
    "        return False\n",
    "    \n",
    "    # notify other entries\n",
    "    seq[firstIndex].notify_referenced_by(current)\n",
    "    seq[secondIndex].notify_referenced_by(current)\n",
    "    \n",
    "    seq.append(Entry(current, seq[firstIndex] + seq[secondIndex]))\n",
    "    return True"
   ]
  },
  {
   "cell_type": "code",
   "execution_count": 4,
   "id": "59ba4a76",
   "metadata": {},
   "outputs": [],
   "source": [
    "def add_terms(n, predict_die=False):\n",
    "    for _ in range(n):\n",
    "        if (not add_a_term(predict_die)):\n",
    "            print(\"DIED\")\n",
    "            return False\n",
    "        if (predict_die):\n",
    "            pretty_print()"
   ]
  },
  {
   "cell_type": "code",
   "execution_count": 5,
   "id": "f75b3964",
   "metadata": {},
   "outputs": [],
   "source": [
    "def pretty_print(include_index = False):\n",
    "    for ent in seq:\n",
    "        if (include_index):\n",
    "            print(ent, end = '')\n",
    "        else:\n",
    "            print(str(ent.num) + \"-> \", end='')\n",
    "    print()"
   ]
  },
  {
   "cell_type": "code",
   "execution_count": 6,
   "id": "d4252e23",
   "metadata": {},
   "outputs": [],
   "source": [
    "def default():\n",
    "    return [Entry(1, 1), Entry(2, 1)]"
   ]
  },
  {
   "cell_type": "code",
   "execution_count": 7,
   "id": "72033fd7",
   "metadata": {},
   "outputs": [
    {
     "name": "stdout",
     "output_type": "stream",
     "text": [
      "1-> 1-> 2-> 3-> 3-> 4-> 5-> 5-> 6-> 6-> 6-> 8-> 8-> 8-> 10-> 9-> 10-> 11-> 11-> 12-> 12-> 12-> 12-> 16-> 14-> 14-> 16-> 16-> 16-> 16-> 20-> 17-> 17-> 20-> 21-> 19-> 20-> 22-> 21-> 22-> 23-> 23-> \n"
     ]
    }
   ],
   "source": [
    "seq = default()\n",
    "first_worked = add_terms(40)\n",
    "pretty_print()\n",
    "if (first_worked and not add_terms(500)):\n",
    "    pretty_print()"
   ]
  },
  {
   "cell_type": "code",
   "execution_count": 8,
   "id": "a4ae4241",
   "metadata": {},
   "outputs": [],
   "source": [
    "def display_wide_table(seq):\n",
    "    print(\"  n | Q(n) | Q(n - (n-1)) | Q(n - (n-2)) | n - Q(n-1) | n - Q(n-2)\")\n",
    "    for ent in seq:\n",
    "        if (ent.index > 2):\n",
    "            prev = seq[ent.index - 2]\n",
    "            doublePrev = seq[ent.index - 3]\n",
    "            firstTermIndex = ent.index - prev.num\n",
    "            secondTermIndex = ent.index - doublePrev.num\n",
    "            firstContributingNum = seq[firstTermIndex - 1].num\n",
    "            secondContributingNum = seq[secondTermIndex - 1].num\n",
    "            print(\"%3d | %4d |  %7d     |  %7d     | %7d    | %5d\" % (ent.index, ent.num, firstContributingNum, \\\n",
    "                                                     secondContributingNum, firstTermIndex, secondTermIndex))\n",
    "        else:\n",
    "            print(\"%3d | %4d |              |              |            |\" % (ent.index, ent.num))"
   ]
  },
  {
   "cell_type": "code",
   "execution_count": 9,
   "id": "701be13b",
   "metadata": {},
   "outputs": [
    {
     "name": "stdout",
     "output_type": "stream",
     "text": [
      "  n | Q(n) | Q(n - (n-1)) | Q(n - (n-2)) | n - Q(n-1) | n - Q(n-2)\n",
      "  1 |    1 |              |              |            |\n",
      "  2 |    1 |              |              |            |\n",
      "  3 |    2 |        1     |        1     |       2    |     2\n",
      "  4 |    3 |        1     |        2     |       2    |     3\n",
      "  5 |    3 |        1     |        2     |       2    |     3\n",
      "  6 |    4 |        2     |        2     |       3    |     3\n",
      "  7 |    5 |        2     |        3     |       3    |     4\n",
      "  8 |    5 |        2     |        3     |       3    |     4\n",
      "  9 |    6 |        3     |        3     |       4    |     4\n",
      " 10 |    6 |        3     |        3     |       4    |     5\n",
      " 11 |    6 |        3     |        3     |       5    |     5\n",
      " 12 |    8 |        4     |        4     |       6    |     6\n"
     ]
    }
   ],
   "source": [
    "display_wide_table(seq[:12])"
   ]
  },
  {
   "cell_type": "code",
   "execution_count": 17,
   "id": "39b69d24",
   "metadata": {},
   "outputs": [],
   "source": [
    "def display_last_reference_table(seq):\n",
    "    print(\"  n | Q(n) | references\")\n",
    "    for ent in seq:\n",
    "        cl = ent.least_ref() - (2 * ent.index)\n",
    "        print(\"%3d | %4d |\" % (ent.index, ent.num), ent.references)"
   ]
  },
  {
   "cell_type": "code",
   "execution_count": 18,
   "id": "d9a607b8",
   "metadata": {},
   "outputs": [
    {
     "name": "stdout",
     "output_type": "stream",
     "text": [
      "  n | Q(n) | references\n",
      "  1 |    1 | []\n",
      "  2 |    1 | [3, 3, 4, 5]\n",
      "  3 |    2 | [4, 5, 6, 6, 7, 8]\n",
      "  4 |    3 | [7, 8, 9, 9, 10]\n",
      "  5 |    3 | [10, 11, 11, 13]\n",
      "  6 |    4 | [12, 12, 14, 14, 16]\n",
      "  7 |    5 | [13, 15, 15, 17]\n",
      "  8 |    5 | [16, 17, 18, 19]\n",
      "  9 |    6 | [18, 19, 20, 20, 21, 25]\n",
      " 10 |    6 | [21, 22, 22, 26]\n",
      " 11 |    6 | [23, 23]\n",
      " 12 |    8 | [24, 24, 26, 28, 32]\n",
      " 13 |    8 | [25, 27, 27, 29, 29, 33]\n",
      " 14 |    8 | [28, 30, 30]\n",
      " 15 |   10 | [31, 31, 35, 36]\n",
      " 16 |    9 | [32, 33, 36, 37]\n",
      " 17 |   10 | [34, 34, 39, 49]\n",
      " 18 |   11 | [35, 37, 38, 40, 50]\n",
      " 19 |   11 | [38, 39, 40, 41, 42]\n",
      " 20 |   12 | [41, 42, 43, 43, 44]\n",
      " 21 |   12 | [44, 45, 45]\n",
      " 22 |   12 | [46, 46, 52]\n",
      " 23 |   12 | [47, 47, 53]\n",
      " 24 |   16 | [48, 48, 64]\n",
      " 25 |   14 | [49, 53, 55, 65]\n",
      " 26 |   14 | [50, 51, 54, 56, 56, 58]\n",
      " 27 |   16 | [51, 52, 57, 59]\n",
      " 28 |   16 | [54, 60]\n",
      " 29 |   16 | [55, 57, 59, 61, 61, 67]\n",
      " 30 |   16 | [58, 60, 62, 62, 68]\n",
      " 31 |   20 | [63, 63, 70, 71]\n",
      " 32 |   17 | [64, 65, 71, 72]\n",
      " 33 |   17 | [66, 68, 97]\n",
      " 34 |   20 | [69, 74, 98]\n",
      " 35 |   21 | [66, 72, 73, 75]\n",
      " 36 |   19 | [67, 69, 73, 74, 75, 76, 78]\n",
      " 37 |   20 | [70, 76, 77, 79]\n",
      " 38 |   22 | [77, 81, 82]\n",
      " 39 |   21 | [78, 79, 80, 82, 83, 85]\n",
      " 40 |   22 | [80, 81, 83, 86]\n",
      " 41 |   23 | [84, 84, 88]\n",
      " 42 |   23 | [85, 86, 87, 89, 89]\n",
      " 43 |   24 | [87, 88, 90, 91]\n",
      " 44 |   24 | [90, 92, 92]\n",
      " 45 |   24 | [91, 93, 93, 101]\n",
      " 46 |   24 | [94, 94, 100, 102, 106]\n",
      " 47 |   24 | [95, 95, 99, 101, 107, 125]\n",
      " 48 |   32 | [96, 96, 100, 126]\n",
      " 49 |   24 | [97, 103]\n",
      " 50 |   25 | [104, 104, 110, 116, 122]\n",
      " 51 |   30 | [105, 109, 111, 117, 119, 123]\n",
      " 52 |   28 | [110, 112, 120]\n",
      " 53 |   26 | [113, 113, 115]\n",
      " 54 |   30 | [102, 108, 114, 116]\n",
      " 55 |   30 | [103, 105, 107, 109]\n",
      " 56 |   28 | [106, 108, 118, 127, 136]\n",
      " 57 |   32 | [98, 119, 128, 137]\n",
      " 58 |   30 | [99, 111, 120, 131]\n",
      " 59 |   32 | [112, 121, 132]\n",
      " 60 |   32 | [128]\n",
      " 61 |   32 | [129, 141]\n",
      " 62 |   32 | [114, 117, 133, 134, 139, 142]\n",
      " 63 |   40 | [115, 118, 121, 124, 134, 135, 135, 140]\n",
      " 64 |   33 | [122, 125, 136]\n",
      " 65 |   31 | [123, 129, 193]\n",
      " 66 |   38 | [124, 130, 194]\n",
      " 67 |   35 | [130, 138, 144]\n",
      " 68 |   33 | [131, 139, 145]\n",
      " 69 |   39 | [126, 132, 148]\n",
      " 70 |   40 | [127, 133, 145, 147, 149, 150]\n",
      " 71 |   37 | [142, 146, 148, 151, 153]\n",
      " 72 |   38 | [143, 151, 154]\n",
      " 73 |   40 | [146, 149, 152]\n",
      " 74 |   39 | [143, 147, 150]\n",
      " 75 |   40 | [140, 144, 155, 158]\n",
      " 76 |   39 | [137, 141, 156, 156, 159, 159, 161]\n",
      " 77 |   42 | [138, 152, 154, 157, 160, 162]\n",
      " 78 |   40 | [153, 155, 163, 166]\n",
      " 79 |   41 | [157, 164, 167, 203]\n",
      " 80 |   43 | [158, 162, 164, 204]\n",
      " 81 |   44 | [163, 165, 165, 168, 169, 196]\n",
      " 82 |   43 | [160, 166, 169, 170, 172, 197]\n",
      " 83 |   43 | [161, 170, 173, 175]\n",
      " 84 |   46 | [167, 171, 176]\n",
      " 85 |   44 | [168, 171, 173, 199]\n",
      " 86 |   45 | [172, 174, 176, 177, 178, 180, 200]\n",
      " 87 |   47 | [174, 177, 178, 179, 179, 181]\n",
      " 88 |   47 | [175, 180]\n",
      " 89 |   46 | [181, 182, 183, 185]\n",
      " 90 |   48 | [182, 183, 184, 184, 186, 200, 208]\n",
      " 91 |   48 | [185, 187, 201, 209]\n",
      " 92 |   48 | [186, 188, 188]\n",
      " 93 |   48 | [187, 189, 189]\n",
      " 94 |   48 | [190, 190, 224]\n",
      " 95 |   48 | [191, 191, 206, 225]\n",
      " 96 |   64 | [192, 192, 202, 207]\n",
      " 97 |   41 | [193, 197, 203]\n",
      " 98 |   52 | [198, 212, 218, 236]\n",
      " 99 |   54 | [195, 207, 213, 219, 237]\n",
      "100 |   56 | [196, 208, 214]\n"
     ]
    }
   ],
   "source": [
    "seq = default()\n",
    "add_terms(1000)\n",
    "display_last_reference_table(seq[:100])"
   ]
  },
  {
   "cell_type": "code",
   "execution_count": 12,
   "id": "1bc2b596",
   "metadata": {},
   "outputs": [],
   "source": [
    "def display_num_reference_list(seq):\n",
    "    for ent in seq:\n",
    "        print(str(ent.num_ref()) + \", \", end='')"
   ]
  },
  {
   "cell_type": "code",
   "execution_count": 13,
   "id": "42c1a3eb",
   "metadata": {},
   "outputs": [
    {
     "name": "stdout",
     "output_type": "stream",
     "text": [
      "0, 4, 6, 5, 4, 5, 4, 4, 6, 4, 2, 5, 6, 3, 4, 4, 4, 5, 5, 5, "
     ]
    }
   ],
   "source": [
    "display_num_reference_list(seq[:20])"
   ]
  },
  {
   "cell_type": "code",
   "execution_count": null,
   "id": "4546870f",
   "metadata": {},
   "outputs": [],
   "source": [
    "class meta:\n",
    "    \n",
    "    def __init__(self, entry):\n",
    "        self.child = entry\n",
    "        \n",
    "    def "
   ]
  }
 ],
 "metadata": {
  "kernelspec": {
   "display_name": "Python 3 (ipykernel)",
   "language": "python",
   "name": "python3"
  },
  "language_info": {
   "codemirror_mode": {
    "name": "ipython",
    "version": 3
   },
   "file_extension": ".py",
   "mimetype": "text/x-python",
   "name": "python",
   "nbconvert_exporter": "python",
   "pygments_lexer": "ipython3",
   "version": "3.7.3"
  }
 },
 "nbformat": 4,
 "nbformat_minor": 5
}
