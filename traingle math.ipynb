{
 "cells": [
  {
   "cell_type": "code",
   "execution_count": 125,
   "id": "8cc3ae3c",
   "metadata": {},
   "outputs": [],
   "source": [
    "import math"
   ]
  },
  {
   "cell_type": "code",
   "execution_count": 149,
   "id": "abc1b246",
   "metadata": {},
   "outputs": [],
   "source": [
    "def reference_triangle(depth = 5):\n",
    "    triangle = []\n",
    "    for level in range(depth):\n",
    "        layer = []\n",
    "        \n",
    "        peak = level + 1\n",
    "        for i in range(peak + 1):\n",
    "            n_pow = peak - i\n",
    "            m_pow = i\n",
    "            layer.append((n_pow, m_pow))\n",
    "\n",
    "        triangle.append(layer)\n",
    "\n",
    "    display_triangle(triangle)"
   ]
  },
  {
   "cell_type": "code",
   "execution_count": 126,
   "id": "db12090e",
   "metadata": {},
   "outputs": [],
   "source": [
    "def gen_triangle(n, m, depth = 5):\n",
    "    triangle = []\n",
    "    for level in range(depth):\n",
    "        layer = []\n",
    "        \n",
    "        peak = level + 1\n",
    "        for i in range(peak + 1):\n",
    "            n_pow = peak - i\n",
    "            m_pow = i\n",
    "            result = (n ** n_pow) * (m ** m_pow)\n",
    "            layer.append(result)\n",
    "\n",
    "        triangle.append(layer)\n",
    "\n",
    "    return triangle"
   ]
  },
  {
   "cell_type": "code",
   "execution_count": 127,
   "id": "2f0771fb",
   "metadata": {},
   "outputs": [],
   "source": [
    "basic = gen_triangle(2,3)"
   ]
  },
  {
   "cell_type": "code",
   "execution_count": 138,
   "id": "d7e2ec68",
   "metadata": {},
   "outputs": [],
   "source": [
    "def calculate_margin(triangle, width = 250):\n",
    "    max_len = len(str(triangle[-1]))\n",
    "    min_len = len(str(triangle[0]))\n",
    "    return min(max_len - min_len, int(width / 2))"
   ]
  },
  {
   "cell_type": "code",
   "execution_count": 129,
   "id": "328152a3",
   "metadata": {},
   "outputs": [
    {
     "name": "stdout",
     "output_type": "stream",
     "text": [
      "                  2  3\n",
      "                 4  6  9\n",
      "              8  12  18  27\n",
      "           16  24  36  54  81\n",
      "        32  48  72  108  162  243\n"
     ]
    }
   ],
   "source": [
    "def display_triangle(tri):\n",
    "    margin = calculate_margin(tri)\n",
    "    for layer in tri:\n",
    "        out = str(layer).replace(\",\", \" \")\n",
    "        length = len(out)\n",
    "        spaces_to_print = margin - int(length / 2)\n",
    "        print(\" \" * spaces_to_print + out[1: -1])\n",
    "        \n",
    "display_triangle(basic)"
   ]
  },
  {
   "cell_type": "code",
   "execution_count": 130,
   "id": "07335d9b",
   "metadata": {},
   "outputs": [],
   "source": [
    "SUB = str.maketrans(\"0123456789\", \"₀₁₂₃₄₅₆₇₈₉\")"
   ]
  },
  {
   "cell_type": "code",
   "execution_count": 131,
   "id": "4fe0cc54",
   "metadata": {},
   "outputs": [],
   "source": [
    "def recommended_n_string_length(triangle):\n",
    "    last_layer = triangle[-1]\n",
    "    biggest = max(last_layer)\n",
    "    return math.ceil(math.log10(biggest))"
   ]
  },
  {
   "cell_type": "code",
   "execution_count": 132,
   "id": "870e71fb",
   "metadata": {},
   "outputs": [],
   "source": [
    "def display_triangle_with_diff(tri, width = 250):\n",
    "    string_triangle = []\n",
    "    nlen = recommended_n_string_length(tri) + 1\n",
    "    for layer in tri:\n",
    "        out = \"\"\n",
    "        for (i, n) in enumerate(layer):\n",
    "            out += str(n).center(nlen)\n",
    "            if (i < len(layer) - 1):\n",
    "                diff_string = str(layer[i + 1] - n) + \" \"\n",
    "                out+=diff_string.translate(SUB).center(nlen)\n",
    "        string_triangle.append(out)\n",
    "    \n",
    "    margin = calculate_margin(tri, width)\n",
    "    for output in string_triangle:\n",
    "        if (len(output) > width):\n",
    "            total_cut = len(output) - 80\n",
    "            each_cut = int(total_cut / 2)\n",
    "            output = output[each_cut : -each_cut]\n",
    "        spaces_to_print = margin - int(len(output) / 2)\n",
    "        print(\" \" * spaces_to_print + output)"
   ]
  },
  {
   "cell_type": "code",
   "execution_count": 136,
   "id": "3efd545c",
   "metadata": {},
   "outputs": [],
   "source": [
    "def diff_display(n, m, depth = 5, width = 80):\n",
    "    triangle = gen_triangle(n,m, depth)\n",
    "    display_triangle_with_diff(triangle, width)"
   ]
  },
  {
   "cell_type": "code",
   "execution_count": 163,
   "id": "aff79865",
   "metadata": {},
   "outputs": [
    {
     "name": "stdout",
     "output_type": "stream",
     "text": [
      "                      2   ₁   3  \n",
      "                  4   ₂   6   ₃   9  \n",
      "              8   ₄   12  ₆   18  ₉   27 \n",
      "          16  ₈   24 ₁₂   36 ₁₈   54 ₂₇   81 \n",
      "      32 ₁₆   48 ₂₄   72 ₃₆  108 ₅₄  162 ₈₁  243 \n",
      "  64 ₃₂   96 ₄₈  144 ₇₂  216 ₁₀₈ 324 ₁₆₂ 486 ₂₄₃ 729 \n"
     ]
    }
   ],
   "source": [
    "diff_display(2, 5, depth = 6)"
   ]
  },
  {
   "cell_type": "code",
   "execution_count": 150,
   "id": "871864a7",
   "metadata": {},
   "outputs": [
    {
     "name": "stdout",
     "output_type": "stream",
     "text": [
      "                        (1  0)  (0  1)\n",
      "                    (2  0)  (1  1)  (0  2)\n",
      "                (3  0)  (2  1)  (1  2)  (0  3)\n",
      "            (4  0)  (3  1)  (2  2)  (1  3)  (0  4)\n",
      "        (5  0)  (4  1)  (3  2)  (2  3)  (1  4)  (0  5)\n"
     ]
    }
   ],
   "source": [
    "reference_triangle()"
   ]
  },
  {
   "cell_type": "markdown",
   "id": "fa641d25",
   "metadata": {},
   "source": [
    "# Rules:"
   ]
  },
  {
   "cell_type": "code",
   "execution_count": 164,
   "id": "c178c78b",
   "metadata": {},
   "outputs": [],
   "source": [
    "def gen_down(a, b, l):\n",
    "    return b + l * a"
   ]
  }
 ],
 "metadata": {
  "kernelspec": {
   "display_name": "Python 3 (ipykernel)",
   "language": "python",
   "name": "python3"
  },
  "language_info": {
   "codemirror_mode": {
    "name": "ipython",
    "version": 3
   },
   "file_extension": ".py",
   "mimetype": "text/x-python",
   "name": "python",
   "nbconvert_exporter": "python",
   "pygments_lexer": "ipython3",
   "version": "3.7.3"
  },
  "vscode": {
   "interpreter": {
    "hash": "aee8b7b246df8f9039afb4144a1f6fd8d2ca17a180786b69acc140d282b71a49"
   }
  }
 },
 "nbformat": 4,
 "nbformat_minor": 5
}
